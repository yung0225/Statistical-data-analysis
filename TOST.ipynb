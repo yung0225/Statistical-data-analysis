{
 "cells": [
  {
   "cell_type": "markdown",
   "id": "02275c67-721c-495a-ae65-872ba5f9284c",
   "metadata": {},
   "source": [
    "**TOST (two one-sided test or equivalence test):**\n",
    "\n",
    "It is a test two of equivalence that is based on the classical t test used to test the hypothesis of equality between two means. So we will have two samples, a theoretical difference between the means as well as a range within which we can say that the sample means are equivalent.\n",
    "\n",
    "To do TOST, we should set up an **equivalent interval** (usually +/- 5% or 10%), and **calculate means and standard deviation** of two groups of data first. Next, use the formula *SE = sqrt((SD1^2/n1)+SD2^2/n2)* to calculate the standard error. Finally, it is important to calculate upper t value and lower t value by formula *tlower = ((M1-M2)-(-EI))/SE*; *tupper = ((M1-M2)-(EI))/SE* and **check the critical point of t distribution**.\n",
    "\n",
    "**Python model that can be used:**\n",
    "\n",
    "1. statsmodels.stats.weightstats (2025)\n",
    "2. scipy.stats\n",
    "\n",
    "**Comparison:**\n",
    "\n",
    "For traditional t test and ANOVA are used to test whether two groups of data have \"significant difference (when p-value < 0.05)\". If you want to confirm there is no significant different, it is not enough to use t-test and ANOVA.\n",
    "\n",
    "ref: https://www.xlstat.com/en/solutions/features/equivalence-test-tost"
   ]
  },
  {
   "cell_type": "code",
   "execution_count": 4,
   "id": "b7d4542b-fa1d-4b12-a8f6-3c6bcebeef01",
   "metadata": {},
   "outputs": [
    {
     "name": "stdout",
     "output_type": "stream",
     "text": [
      "Requirement already satisfied: statsmodels in c:\\users\\yydomm01\\anaconda3\\lib\\site-packages (0.14.0)\n",
      "Requirement already satisfied: numpy>=1.18 in c:\\users\\yydomm01\\anaconda3\\lib\\site-packages (from statsmodels) (1.26.4)\n",
      "Requirement already satisfied: scipy!=1.9.2,>=1.4 in c:\\users\\yydomm01\\anaconda3\\lib\\site-packages (from statsmodels) (1.11.4)\n",
      "Requirement already satisfied: pandas>=1.0 in c:\\users\\yydomm01\\anaconda3\\lib\\site-packages (from statsmodels) (2.1.4)\n",
      "Requirement already satisfied: patsy>=0.5.2 in c:\\users\\yydomm01\\anaconda3\\lib\\site-packages (from statsmodels) (0.5.3)\n",
      "Requirement already satisfied: packaging>=21.3 in c:\\users\\yydomm01\\anaconda3\\lib\\site-packages (from statsmodels) (23.1)\n",
      "Requirement already satisfied: python-dateutil>=2.8.2 in c:\\users\\yydomm01\\anaconda3\\lib\\site-packages (from pandas>=1.0->statsmodels) (2.8.2)\n",
      "Requirement already satisfied: pytz>=2020.1 in c:\\users\\yydomm01\\anaconda3\\lib\\site-packages (from pandas>=1.0->statsmodels) (2023.3.post1)\n",
      "Requirement already satisfied: tzdata>=2022.1 in c:\\users\\yydomm01\\anaconda3\\lib\\site-packages (from pandas>=1.0->statsmodels) (2023.3)\n",
      "Requirement already satisfied: six in c:\\users\\yydomm01\\anaconda3\\lib\\site-packages (from patsy>=0.5.2->statsmodels) (1.16.0)\n"
     ]
    }
   ],
   "source": [
    "!pip install statsmodels"
   ]
  },
  {
   "cell_type": "code",
   "execution_count": 14,
   "id": "ccefc1cd-eeb5-463b-8ecd-3c699d13d0ab",
   "metadata": {},
   "outputs": [
    {
     "name": "stdout",
     "output_type": "stream",
     "text": [
      "===== TOST results =====\n",
      "TOST p value：0.0093\n",
      "lower t value ：3.2004, lower p value：0.0065, degree of freedom：7.85\n",
      "upper t value：-2.9542, upper p value：0.0093, degree of freedom：7.85\n",
      "\n",
      "✅ These two sets of data are within the equivalent range and can be considered equivalent samples!\n"
     ]
    }
   ],
   "source": [
    "import numpy as np\n",
    "from statsmodels.stats.weightstats import ttost_ind\n",
    "\n",
    "# Assume twp groups of data\n",
    "group1 = np.array([10.2, 9.8, 10.5, 10.1, 9.9])\n",
    "group2 = np.array([10.1, 9.9, 10.4, 10.2, 9.8])\n",
    "\n",
    "# Set up equivalence boundary（e.g. ±0.5）\n",
    "low_eqbound = -0.5\n",
    "high_eqbound = 0.5\n",
    "\n",
    "# Undergo TOST \n",
    "p_value, (t_stat_low, p_value_low, df_low), (t_stat_high, p_value_high, df_high) = ttost_ind(\n",
    "    group1, group2, low_eqbound, high_eqbound, usevar='unequal'\n",
    ")\n",
    "\n",
    "print(\"===== TOST results =====\")\n",
    "print(f\"TOST p value：{p_value:.4f}\")\n",
    "print(f\"lower t value ：{t_stat_low:.4f}, lower p value：{p_value_low:.4f}, degree of freedom：{df_low:.2f}\")\n",
    "print(f\"upper t value：{t_stat_high:.4f}, upper p value：{p_value_high:.4f}, degree of freedom：{df_high:.2f}\")\n",
    "\n",
    "\n",
    "if p_value < 0.05:\n",
    "    print(\"\\n✅ These two sets of data are within the equivalent range and can be considered equivalent samples!\")\n",
    "else:\n",
    "    print(\"\\n❌ The two sets of data failed to demonstrate equivalence and may be significantly different.\")"
   ]
  },
  {
   "cell_type": "code",
   "execution_count": 15,
   "id": "ebe23b2c-1dcb-4de1-9a5f-f2317ff7744b",
   "metadata": {},
   "outputs": [
    {
     "name": "stdout",
     "output_type": "stream",
     "text": [
      "          Property  Mean Group 1  Mean Group 2  Equivalence Bound  \\\n",
      "0  Reduced Modulus      8.096667     10.751667           0.986667   \n",
      "1         Hardness      0.331067      0.605868           0.051427   \n",
      "\n",
      "   t-test p-value  TOST p-value Lower  TOST p-value Upper  \n",
      "0        0.060855            0.009554            0.002028  \n",
      "1        0.059465            0.006525            0.003075  \n"
     ]
    }
   ],
   "source": [
    "import numpy as np\n",
    "import scipy.stats as stats\n",
    "import pandas as pd\n",
    "\n",
    "# Input the data\n",
    "soft_group1_modulus = np.array([7.77, 8.23, 8.29])  \n",
    "soft_group2_modulus = np.array([10.62, 8.1, 13.83, 11.41, 7.19, 13.36]) \n",
    "\n",
    "soft_group1_hardness = np.array([0.3095, 0.3166, 0.3671])\n",
    "soft_group2_hardness = np.array([0.48, 0.32, 0.898, 0.71853, 0.302, 0.91668])\n",
    "\n",
    "# Set up the equivalence value (+/-10%)\n",
    "soft_modulus_mean = np.mean(np.concatenate([soft_group1_modulus, soft_group2_modulus]))\n",
    "soft_hardness_mean = np.mean(np.concatenate([soft_group1_hardness, soft_group2_hardness]))\n",
    "\n",
    "soft_modulus_eq_bound = 0.1 * soft_modulus_mean\n",
    "soft_hardness_eq_bound = 0.1 * soft_hardness_mean\n",
    "\n",
    "# Calculate the t-test\n",
    "t_stat_soft_modulus, p_value_soft_modulus = stats.ttest_ind(soft_group1_modulus, soft_group2_modulus, equal_var=False)\n",
    "t_stat_soft_hardness, p_value_soft_hardness = stats.ttest_ind(soft_group1_hardness, soft_group2_hardness, equal_var=False)\n",
    "\n",
    "# TOST \n",
    "tost_p_value_soft_modulus_low = stats.ttest_1samp(soft_group1_modulus - np.mean(soft_group2_modulus), -soft_modulus_eq_bound)[1]\n",
    "tost_p_value_soft_modulus_high = stats.ttest_1samp(soft_group1_modulus - np.mean(soft_group2_modulus), soft_modulus_eq_bound)[1]\n",
    "\n",
    "tost_p_value_soft_hardness_low = stats.ttest_1samp(soft_group1_hardness - np.mean(soft_group2_hardness), -soft_hardness_eq_bound)[1]\n",
    "tost_p_value_soft_hardness_high = stats.ttest_1samp(soft_group1_hardness - np.mean(soft_group2_hardness), soft_hardness_eq_bound)[1]\n",
    "\n",
    "# result\n",
    "soft_results = {\n",
    "    \"Property\": [\"Reduced Modulus\", \"Hardness\"],\n",
    "    \"Mean Group 1\": [np.mean(soft_group1_modulus), np.mean(soft_group1_hardness)],\n",
    "    \"Mean Group 2\": [np.mean(soft_group2_modulus), np.mean(soft_group2_hardness)],\n",
    "    \"Equivalence Bound\": [soft_modulus_eq_bound, soft_hardness_eq_bound],\n",
    "    \"t-test p-value\": [p_value_soft_modulus, p_value_soft_hardness],\n",
    "    \"TOST p-value Lower\": [tost_p_value_soft_modulus_low, tost_p_value_soft_hardness_low],\n",
    "    \"TOST p-value Upper\": [tost_p_value_soft_modulus_high, tost_p_value_soft_hardness_high],\n",
    "}\n",
    "\n",
    "# Transform to DataFrame\n",
    "df_soft_results = pd.DataFrame(soft_results)\n",
    "\n",
    "# Show the result\n",
    "print(df_soft_results)"
   ]
  },
  {
   "cell_type": "code",
   "execution_count": null,
   "id": "f68251ba-d2b2-4da4-8717-b0afdccffb3e",
   "metadata": {},
   "outputs": [],
   "source": []
  }
 ],
 "metadata": {
  "kernelspec": {
   "display_name": "Python 3 (ipykernel)",
   "language": "python",
   "name": "python3"
  },
  "language_info": {
   "codemirror_mode": {
    "name": "ipython",
    "version": 3
   },
   "file_extension": ".py",
   "mimetype": "text/x-python",
   "name": "python",
   "nbconvert_exporter": "python",
   "pygments_lexer": "ipython3",
   "version": "3.11.7"
  }
 },
 "nbformat": 4,
 "nbformat_minor": 5
}
